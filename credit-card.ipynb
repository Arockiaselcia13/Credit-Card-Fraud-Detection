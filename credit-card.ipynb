{
 "cells": [
  {
   "cell_type": "code",
   "execution_count": 1,
   "metadata": {
    "_cell_guid": "79c7e3d0-c299-4dcb-8224-4455121ee9b0",
    "_uuid": "d629ff2d2480ee46fbb7e2d37f6b5fab8052498a",
    "execution": {
     "iopub.execute_input": "2020-11-18T10:02:11.913983Z",
     "iopub.status.busy": "2020-11-18T10:02:11.913049Z",
     "iopub.status.idle": "2020-11-18T10:02:13.441508Z",
     "shell.execute_reply": "2020-11-18T10:02:13.440597Z"
    },
    "papermill": {
     "duration": 1.566018,
     "end_time": "2020-11-18T10:02:13.441664",
     "exception": false,
     "start_time": "2020-11-18T10:02:11.875646",
     "status": "completed"
    },
    "tags": []
   },
   "outputs": [],
   "source": [
    "import numpy as np\n",
    "import pandas as pd\n",
    "import matplotlib.pyplot as plt\n",
    "import seaborn as sns\n",
    "from sklearn.ensemble import RandomForestClassifier"
   ]
  },
  {
   "cell_type": "code",
   "execution_count": 2,
   "metadata": {
    "execution": {
     "iopub.execute_input": "2020-11-18T10:02:13.488778Z",
     "iopub.status.busy": "2020-11-18T10:02:13.487931Z",
     "iopub.status.idle": "2020-11-18T10:02:16.960535Z",
     "shell.execute_reply": "2020-11-18T10:02:16.959228Z"
    },
    "papermill": {
     "duration": 3.498122,
     "end_time": "2020-11-18T10:02:16.960702",
     "exception": false,
     "start_time": "2020-11-18T10:02:13.462580",
     "status": "completed"
    },
    "tags": []
   },
   "outputs": [],
   "source": [
    "dataset = pd.read_csv('../input/creditcardfraud/creditcard.csv')"
   ]
  },
  {
   "cell_type": "code",
   "execution_count": 3,
   "metadata": {
    "execution": {
     "iopub.execute_input": "2020-11-18T10:02:17.008511Z",
     "iopub.status.busy": "2020-11-18T10:02:17.006714Z",
     "iopub.status.idle": "2020-11-18T10:02:17.016460Z",
     "shell.execute_reply": "2020-11-18T10:02:17.017224Z"
    },
    "papermill": {
     "duration": 0.038046,
     "end_time": "2020-11-18T10:02:17.017498",
     "exception": false,
     "start_time": "2020-11-18T10:02:16.979452",
     "status": "completed"
    },
    "tags": []
   },
   "outputs": [
    {
     "data": {
      "text/plain": [
       "(284807, 31)"
      ]
     },
     "execution_count": 3,
     "metadata": {},
     "output_type": "execute_result"
    }
   ],
   "source": [
    "dataset.shape"
   ]
  },
  {
   "cell_type": "code",
   "execution_count": 4,
   "metadata": {
    "execution": {
     "iopub.execute_input": "2020-11-18T10:02:17.072074Z",
     "iopub.status.busy": "2020-11-18T10:02:17.070751Z",
     "iopub.status.idle": "2020-11-18T10:02:17.113472Z",
     "shell.execute_reply": "2020-11-18T10:02:17.112635Z"
    },
    "papermill": {
     "duration": 0.070985,
     "end_time": "2020-11-18T10:02:17.113616",
     "exception": false,
     "start_time": "2020-11-18T10:02:17.042631",
     "status": "completed"
    },
    "tags": []
   },
   "outputs": [
    {
     "data": {
      "text/plain": [
       "Time      0\n",
       "V1        0\n",
       "V2        0\n",
       "V3        0\n",
       "V4        0\n",
       "V5        0\n",
       "V6        0\n",
       "V7        0\n",
       "V8        0\n",
       "V9        0\n",
       "V10       0\n",
       "V11       0\n",
       "V12       0\n",
       "V13       0\n",
       "V14       0\n",
       "V15       0\n",
       "V16       0\n",
       "V17       0\n",
       "V18       0\n",
       "V19       0\n",
       "V20       0\n",
       "V21       0\n",
       "V22       0\n",
       "V23       0\n",
       "V24       0\n",
       "V25       0\n",
       "V26       0\n",
       "V27       0\n",
       "V28       0\n",
       "Amount    0\n",
       "Class     0\n",
       "dtype: int64"
      ]
     },
     "execution_count": 4,
     "metadata": {},
     "output_type": "execute_result"
    }
   ],
   "source": [
    "dataset.isna().sum()"
   ]
  },
  {
   "cell_type": "code",
   "execution_count": 5,
   "metadata": {
    "execution": {
     "iopub.execute_input": "2020-11-18T10:02:17.181478Z",
     "iopub.status.busy": "2020-11-18T10:02:17.180566Z",
     "iopub.status.idle": "2020-11-18T10:02:17.199699Z",
     "shell.execute_reply": "2020-11-18T10:02:17.198766Z"
    },
    "papermill": {
     "duration": 0.063499,
     "end_time": "2020-11-18T10:02:17.199850",
     "exception": false,
     "start_time": "2020-11-18T10:02:17.136351",
     "status": "completed"
    },
    "tags": []
   },
   "outputs": [
    {
     "data": {
      "text/html": [
       "<div>\n",
       "<style scoped>\n",
       "    .dataframe tbody tr th:only-of-type {\n",
       "        vertical-align: middle;\n",
       "    }\n",
       "\n",
       "    .dataframe tbody tr th {\n",
       "        vertical-align: top;\n",
       "    }\n",
       "\n",
       "    .dataframe thead th {\n",
       "        text-align: right;\n",
       "    }\n",
       "</style>\n",
       "<table border=\"1\" class=\"dataframe\">\n",
       "  <thead>\n",
       "    <tr style=\"text-align: right;\">\n",
       "      <th></th>\n",
       "      <th>Time</th>\n",
       "      <th>V1</th>\n",
       "      <th>V2</th>\n",
       "      <th>V3</th>\n",
       "      <th>V4</th>\n",
       "      <th>V5</th>\n",
       "      <th>V6</th>\n",
       "      <th>V7</th>\n",
       "      <th>V8</th>\n",
       "      <th>V9</th>\n",
       "      <th>...</th>\n",
       "      <th>V21</th>\n",
       "      <th>V22</th>\n",
       "      <th>V23</th>\n",
       "      <th>V24</th>\n",
       "      <th>V25</th>\n",
       "      <th>V26</th>\n",
       "      <th>V27</th>\n",
       "      <th>V28</th>\n",
       "      <th>Amount</th>\n",
       "      <th>Class</th>\n",
       "    </tr>\n",
       "  </thead>\n",
       "  <tbody>\n",
       "    <tr>\n",
       "      <th>0</th>\n",
       "      <td>0.0</td>\n",
       "      <td>-1.359807</td>\n",
       "      <td>-0.072781</td>\n",
       "      <td>2.536347</td>\n",
       "      <td>1.378155</td>\n",
       "      <td>-0.338321</td>\n",
       "      <td>0.462388</td>\n",
       "      <td>0.239599</td>\n",
       "      <td>0.098698</td>\n",
       "      <td>0.363787</td>\n",
       "      <td>...</td>\n",
       "      <td>-0.018307</td>\n",
       "      <td>0.277838</td>\n",
       "      <td>-0.110474</td>\n",
       "      <td>0.066928</td>\n",
       "      <td>0.128539</td>\n",
       "      <td>-0.189115</td>\n",
       "      <td>0.133558</td>\n",
       "      <td>-0.021053</td>\n",
       "      <td>149.62</td>\n",
       "      <td>0</td>\n",
       "    </tr>\n",
       "    <tr>\n",
       "      <th>1</th>\n",
       "      <td>0.0</td>\n",
       "      <td>1.191857</td>\n",
       "      <td>0.266151</td>\n",
       "      <td>0.166480</td>\n",
       "      <td>0.448154</td>\n",
       "      <td>0.060018</td>\n",
       "      <td>-0.082361</td>\n",
       "      <td>-0.078803</td>\n",
       "      <td>0.085102</td>\n",
       "      <td>-0.255425</td>\n",
       "      <td>...</td>\n",
       "      <td>-0.225775</td>\n",
       "      <td>-0.638672</td>\n",
       "      <td>0.101288</td>\n",
       "      <td>-0.339846</td>\n",
       "      <td>0.167170</td>\n",
       "      <td>0.125895</td>\n",
       "      <td>-0.008983</td>\n",
       "      <td>0.014724</td>\n",
       "      <td>2.69</td>\n",
       "      <td>0</td>\n",
       "    </tr>\n",
       "    <tr>\n",
       "      <th>2</th>\n",
       "      <td>1.0</td>\n",
       "      <td>-1.358354</td>\n",
       "      <td>-1.340163</td>\n",
       "      <td>1.773209</td>\n",
       "      <td>0.379780</td>\n",
       "      <td>-0.503198</td>\n",
       "      <td>1.800499</td>\n",
       "      <td>0.791461</td>\n",
       "      <td>0.247676</td>\n",
       "      <td>-1.514654</td>\n",
       "      <td>...</td>\n",
       "      <td>0.247998</td>\n",
       "      <td>0.771679</td>\n",
       "      <td>0.909412</td>\n",
       "      <td>-0.689281</td>\n",
       "      <td>-0.327642</td>\n",
       "      <td>-0.139097</td>\n",
       "      <td>-0.055353</td>\n",
       "      <td>-0.059752</td>\n",
       "      <td>378.66</td>\n",
       "      <td>0</td>\n",
       "    </tr>\n",
       "    <tr>\n",
       "      <th>3</th>\n",
       "      <td>1.0</td>\n",
       "      <td>-0.966272</td>\n",
       "      <td>-0.185226</td>\n",
       "      <td>1.792993</td>\n",
       "      <td>-0.863291</td>\n",
       "      <td>-0.010309</td>\n",
       "      <td>1.247203</td>\n",
       "      <td>0.237609</td>\n",
       "      <td>0.377436</td>\n",
       "      <td>-1.387024</td>\n",
       "      <td>...</td>\n",
       "      <td>-0.108300</td>\n",
       "      <td>0.005274</td>\n",
       "      <td>-0.190321</td>\n",
       "      <td>-1.175575</td>\n",
       "      <td>0.647376</td>\n",
       "      <td>-0.221929</td>\n",
       "      <td>0.062723</td>\n",
       "      <td>0.061458</td>\n",
       "      <td>123.50</td>\n",
       "      <td>0</td>\n",
       "    </tr>\n",
       "    <tr>\n",
       "      <th>4</th>\n",
       "      <td>2.0</td>\n",
       "      <td>-1.158233</td>\n",
       "      <td>0.877737</td>\n",
       "      <td>1.548718</td>\n",
       "      <td>0.403034</td>\n",
       "      <td>-0.407193</td>\n",
       "      <td>0.095921</td>\n",
       "      <td>0.592941</td>\n",
       "      <td>-0.270533</td>\n",
       "      <td>0.817739</td>\n",
       "      <td>...</td>\n",
       "      <td>-0.009431</td>\n",
       "      <td>0.798278</td>\n",
       "      <td>-0.137458</td>\n",
       "      <td>0.141267</td>\n",
       "      <td>-0.206010</td>\n",
       "      <td>0.502292</td>\n",
       "      <td>0.219422</td>\n",
       "      <td>0.215153</td>\n",
       "      <td>69.99</td>\n",
       "      <td>0</td>\n",
       "    </tr>\n",
       "  </tbody>\n",
       "</table>\n",
       "<p>5 rows × 31 columns</p>\n",
       "</div>"
      ],
      "text/plain": [
       "   Time        V1        V2        V3        V4        V5        V6        V7  \\\n",
       "0   0.0 -1.359807 -0.072781  2.536347  1.378155 -0.338321  0.462388  0.239599   \n",
       "1   0.0  1.191857  0.266151  0.166480  0.448154  0.060018 -0.082361 -0.078803   \n",
       "2   1.0 -1.358354 -1.340163  1.773209  0.379780 -0.503198  1.800499  0.791461   \n",
       "3   1.0 -0.966272 -0.185226  1.792993 -0.863291 -0.010309  1.247203  0.237609   \n",
       "4   2.0 -1.158233  0.877737  1.548718  0.403034 -0.407193  0.095921  0.592941   \n",
       "\n",
       "         V8        V9  ...       V21       V22       V23       V24       V25  \\\n",
       "0  0.098698  0.363787  ... -0.018307  0.277838 -0.110474  0.066928  0.128539   \n",
       "1  0.085102 -0.255425  ... -0.225775 -0.638672  0.101288 -0.339846  0.167170   \n",
       "2  0.247676 -1.514654  ...  0.247998  0.771679  0.909412 -0.689281 -0.327642   \n",
       "3  0.377436 -1.387024  ... -0.108300  0.005274 -0.190321 -1.175575  0.647376   \n",
       "4 -0.270533  0.817739  ... -0.009431  0.798278 -0.137458  0.141267 -0.206010   \n",
       "\n",
       "        V26       V27       V28  Amount  Class  \n",
       "0 -0.189115  0.133558 -0.021053  149.62      0  \n",
       "1  0.125895 -0.008983  0.014724    2.69      0  \n",
       "2 -0.139097 -0.055353 -0.059752  378.66      0  \n",
       "3 -0.221929  0.062723  0.061458  123.50      0  \n",
       "4  0.502292  0.219422  0.215153   69.99      0  \n",
       "\n",
       "[5 rows x 31 columns]"
      ]
     },
     "execution_count": 5,
     "metadata": {},
     "output_type": "execute_result"
    }
   ],
   "source": [
    "dataset.head()"
   ]
  },
  {
   "cell_type": "code",
   "execution_count": 6,
   "metadata": {
    "execution": {
     "iopub.execute_input": "2020-11-18T10:02:17.249243Z",
     "iopub.status.busy": "2020-11-18T10:02:17.248338Z",
     "iopub.status.idle": "2020-11-18T10:02:17.260298Z",
     "shell.execute_reply": "2020-11-18T10:02:17.259360Z"
    },
    "papermill": {
     "duration": 0.038261,
     "end_time": "2020-11-18T10:02:17.260477",
     "exception": false,
     "start_time": "2020-11-18T10:02:17.222216",
     "status": "completed"
    },
    "tags": []
   },
   "outputs": [
    {
     "data": {
      "text/plain": [
       "0    284315\n",
       "1       492\n",
       "Name: Class, dtype: int64"
      ]
     },
     "execution_count": 6,
     "metadata": {},
     "output_type": "execute_result"
    }
   ],
   "source": [
    "pd.value_counts(dataset['Class'])"
   ]
  },
  {
   "cell_type": "code",
   "execution_count": 7,
   "metadata": {
    "execution": {
     "iopub.execute_input": "2020-11-18T10:02:17.319889Z",
     "iopub.status.busy": "2020-11-18T10:02:17.318719Z",
     "iopub.status.idle": "2020-11-18T10:02:17.530991Z",
     "shell.execute_reply": "2020-11-18T10:02:17.530187Z"
    },
    "papermill": {
     "duration": 0.248396,
     "end_time": "2020-11-18T10:02:17.531128",
     "exception": false,
     "start_time": "2020-11-18T10:02:17.282732",
     "status": "completed"
    },
    "tags": []
   },
   "outputs": [
    {
     "data": {
      "text/plain": [
       "<matplotlib.axes._subplots.AxesSubplot at 0x7f73a22892d0>"
      ]
     },
     "execution_count": 7,
     "metadata": {},
     "output_type": "execute_result"
    },
    {
     "data": {
      "image/png": "[encoded data removed]",
      "text/plain": [
       "<Figure size 432x288 with 1 Axes>"
      ]
     },
     "metadata": {
      "needs_background": "light"
     },
     "output_type": "display_data"
    }
   ],
   "source": [
    "sns.countplot(dataset['Class'])"
   ]
  },
  {
   "cell_type": "code",
   "execution_count": 8,
   "metadata": {
    "execution": {
     "iopub.execute_input": "2020-11-18T10:02:17.584728Z",
     "iopub.status.busy": "2020-11-18T10:02:17.583864Z",
     "iopub.status.idle": "2020-11-18T10:02:18.995996Z",
     "shell.execute_reply": "2020-11-18T10:02:18.995250Z"
    },
    "papermill": {
     "duration": 1.441926,
     "end_time": "2020-11-18T10:02:18.996127",
     "exception": false,
     "start_time": "2020-11-18T10:02:17.554201",
     "status": "completed"
    },
    "tags": []
   },
   "outputs": [
    {
     "data": {
      "image/png": "[encoded data removed]",
      "text/plain": [
       "<Figure size 720x720 with 2 Axes>"
      ]
     },
     "metadata": {
      "needs_background": "light"
     },
     "output_type": "display_data"
    }
   ],
   "source": [
    "corrmat = dataset.corr()\n",
    "plt.figure(figsize=(10,10))\n",
    "sns.heatmap(corrmat , vmax=0.8 , square=True)\n",
    "plt.show()"
   ]
  },
  {
   "cell_type": "code",
   "execution_count": 9,
   "metadata": {
    "execution": {
     "iopub.execute_input": "2020-11-18T10:02:19.060360Z",
     "iopub.status.busy": "2020-11-18T10:02:19.059184Z",
     "iopub.status.idle": "2020-11-18T10:02:19.127826Z",
     "shell.execute_reply": "2020-11-18T10:02:19.127060Z"
    },
    "papermill": {
     "duration": 0.103825,
     "end_time": "2020-11-18T10:02:19.127964",
     "exception": false,
     "start_time": "2020-11-18T10:02:19.024139",
     "status": "completed"
    },
    "tags": []
   },
   "outputs": [
    {
     "data": {
      "text/plain": [
       "284315"
      ]
     },
     "execution_count": 9,
     "metadata": {},
     "output_type": "execute_result"
    }
   ],
   "source": [
    "len(dataset[dataset['Class']==0]) #valid transaction"
   ]
  },
  {
   "cell_type": "code",
   "execution_count": 10,
   "metadata": {
    "execution": {
     "iopub.execute_input": "2020-11-18T10:02:19.189668Z",
     "iopub.status.busy": "2020-11-18T10:02:19.188681Z",
     "iopub.status.idle": "2020-11-18T10:02:19.197869Z",
     "shell.execute_reply": "2020-11-18T10:02:19.197118Z"
    },
    "papermill": {
     "duration": 0.042104,
     "end_time": "2020-11-18T10:02:19.198081",
     "exception": false,
     "start_time": "2020-11-18T10:02:19.155977",
     "status": "completed"
    },
    "tags": []
   },
   "outputs": [
    {
     "data": {
      "text/plain": [
       "492"
      ]
     },
     "execution_count": 10,
     "metadata": {},
     "output_type": "execute_result"
    }
   ],
   "source": [
    "\n",
    "len(dataset[dataset['Class']==1]) #fradulent transactions"
   ]
  },
  {
   "cell_type": "code",
   "execution_count": 11,
   "metadata": {
    "execution": {
     "iopub.execute_input": "2020-11-18T10:02:19.285386Z",
     "iopub.status.busy": "2020-11-18T10:02:19.284138Z",
     "iopub.status.idle": "2020-11-18T10:02:19.289021Z",
     "shell.execute_reply": "2020-11-18T10:02:19.287936Z"
    },
    "papermill": {
     "duration": 0.064126,
     "end_time": "2020-11-18T10:02:19.289210",
     "exception": false,
     "start_time": "2020-11-18T10:02:19.225084",
     "status": "completed"
    },
    "tags": []
   },
   "outputs": [],
   "source": [
    "\n",
    "X = dataset.iloc[: , :-1].values\n",
    "y = dataset.iloc[: , -1].values\n"
   ]
  },
  {
   "cell_type": "code",
   "execution_count": 12,
   "metadata": {
    "execution": {
     "iopub.execute_input": "2020-11-18T10:02:19.361568Z",
     "iopub.status.busy": "2020-11-18T10:02:19.360737Z",
     "iopub.status.idle": "2020-11-18T10:02:19.911662Z",
     "shell.execute_reply": "2020-11-18T10:02:19.910932Z"
    },
    "papermill": {
     "duration": 0.591617,
     "end_time": "2020-11-18T10:02:19.911797",
     "exception": false,
     "start_time": "2020-11-18T10:02:19.320180",
     "status": "completed"
    },
    "tags": []
   },
   "outputs": [
    {
     "name": "stdout",
     "output_type": "stream",
     "text": [
      "(284807, 30)\n"
     ]
    },
    {
     "data": {
      "text/plain": [
       "(568630, 30)"
      ]
     },
     "execution_count": 12,
     "metadata": {},
     "output_type": "execute_result"
    }
   ],
   "source": [
    "#convert imbalanced data to balanced data\n",
    "from imblearn.over_sampling import RandomOverSampler\n",
    "ros = RandomOverSampler(random_state=0)\n",
    "x_res , y_res = ros.fit_sample(X,y)\n",
    "print(X.shape)\n",
    "x_res.shape"
   ]
  },
  {
   "cell_type": "code",
   "execution_count": 13,
   "metadata": {
    "execution": {
     "iopub.execute_input": "2020-11-18T10:02:20.346847Z",
     "iopub.status.busy": "2020-11-18T10:02:20.345894Z",
     "iopub.status.idle": "2020-11-18T10:02:20.349937Z",
     "shell.execute_reply": "2020-11-18T10:02:20.350534Z"
    },
    "papermill": {
     "duration": 0.412503,
     "end_time": "2020-11-18T10:02:20.350710",
     "exception": false,
     "start_time": "2020-11-18T10:02:19.938207",
     "status": "completed"
    },
    "tags": []
   },
   "outputs": [
    {
     "name": "stdout",
     "output_type": "stream",
     "text": [
      "Counter({0: 284315, 1: 492})\n",
      "Counter({0: 284315, 1: 284315})\n"
     ]
    }
   ],
   "source": [
    "from collections import Counter\n",
    "print(Counter(y))\n",
    "print(Counter(y_res))"
   ]
  },
  {
   "cell_type": "code",
   "execution_count": 14,
   "metadata": {
    "execution": {
     "iopub.execute_input": "2020-11-18T10:02:20.411710Z",
     "iopub.status.busy": "2020-11-18T10:02:20.410770Z",
     "iopub.status.idle": "2020-11-18T10:02:20.558948Z",
     "shell.execute_reply": "2020-11-18T10:02:20.559560Z"
    },
    "papermill": {
     "duration": 0.181986,
     "end_time": "2020-11-18T10:02:20.559740",
     "exception": false,
     "start_time": "2020-11-18T10:02:20.377754",
     "status": "completed"
    },
    "tags": []
   },
   "outputs": [],
   "source": [
    "from sklearn.model_selection import train_test_split\n",
    "x_train , x_test , y_train , y_test = train_test_split(x_res , y_res , test_size=0.3 , random_state=42)"
   ]
  },
  {
   "cell_type": "code",
   "execution_count": 15,
   "metadata": {
    "execution": {
     "iopub.execute_input": "2020-11-18T10:02:20.620243Z",
     "iopub.status.busy": "2020-11-18T10:02:20.619015Z",
     "iopub.status.idle": "2020-11-18T10:02:20.623833Z",
     "shell.execute_reply": "2020-11-18T10:02:20.623193Z"
    },
    "papermill": {
     "duration": 0.037092,
     "end_time": "2020-11-18T10:02:20.623963",
     "exception": false,
     "start_time": "2020-11-18T10:02:20.586871",
     "status": "completed"
    },
    "tags": []
   },
   "outputs": [
    {
     "data": {
      "text/plain": [
       "(398041, 30)"
      ]
     },
     "execution_count": 15,
     "metadata": {},
     "output_type": "execute_result"
    }
   ],
   "source": [
    "x_train.shape"
   ]
  },
  {
   "cell_type": "code",
   "execution_count": 16,
   "metadata": {
    "execution": {
     "iopub.execute_input": "2020-11-18T10:02:20.685951Z",
     "iopub.status.busy": "2020-11-18T10:02:20.684816Z",
     "iopub.status.idle": "2020-11-18T10:02:20.690089Z",
     "shell.execute_reply": "2020-11-18T10:02:20.689276Z"
    },
    "papermill": {
     "duration": 0.038363,
     "end_time": "2020-11-18T10:02:20.690226",
     "exception": false,
     "start_time": "2020-11-18T10:02:20.651863",
     "status": "completed"
    },
    "tags": []
   },
   "outputs": [
    {
     "data": {
      "text/plain": [
       "(398041,)"
      ]
     },
     "execution_count": 16,
     "metadata": {},
     "output_type": "execute_result"
    }
   ],
   "source": [
    "y_train.shape"
   ]
  },
  {
   "cell_type": "code",
   "execution_count": 17,
   "metadata": {
    "execution": {
     "iopub.execute_input": "2020-11-18T10:02:20.753936Z",
     "iopub.status.busy": "2020-11-18T10:02:20.753101Z",
     "iopub.status.idle": "2020-11-18T10:37:31.937739Z",
     "shell.execute_reply": "2020-11-18T10:37:31.938375Z"
    },
    "papermill": {
     "duration": 2111.219737,
     "end_time": "2020-11-18T10:37:31.938628",
     "exception": false,
     "start_time": "2020-11-18T10:02:20.718891",
     "status": "completed"
    },
    "tags": []
   },
   "outputs": [
    {
     "data": {
      "text/plain": [
       "RandomForestClassifier(n_estimators=641, random_state=0)"
      ]
     },
     "execution_count": 17,
     "metadata": {},
     "output_type": "execute_result"
    }
   ],
   "source": [
    "from sklearn.ensemble import RandomForestClassifier\n",
    "classifier = RandomForestClassifier(n_estimators = 641 , random_state=0)\n",
    "classifier.fit(x_train , y_train)"
   ]
  },
  {
   "cell_type": "code",
   "execution_count": 18,
   "metadata": {
    "execution": {
     "iopub.execute_input": "2020-11-18T10:37:32.004628Z",
     "iopub.status.busy": "2020-11-18T10:37:32.003152Z",
     "iopub.status.idle": "2020-11-18T10:37:44.159887Z",
     "shell.execute_reply": "2020-11-18T10:37:44.159120Z"
    },
    "papermill": {
     "duration": 12.19282,
     "end_time": "2020-11-18T10:37:44.160014",
     "exception": false,
     "start_time": "2020-11-18T10:37:31.967194",
     "status": "completed"
    },
    "tags": []
   },
   "outputs": [
    {
     "data": {
      "text/plain": [
       "7"
      ]
     },
     "execution_count": 18,
     "metadata": {},
     "output_type": "execute_result"
    }
   ],
   "source": [
    "y_pred = classifier.predict(x_test)\n",
    "n_errors = (y_pred != y_test).sum()\n",
    "n_errors"
   ]
  },
  {
   "cell_type": "code",
   "execution_count": 19,
   "metadata": {
    "execution": {
     "iopub.execute_input": "2020-11-18T10:37:44.227146Z",
     "iopub.status.busy": "2020-11-18T10:37:44.225998Z",
     "iopub.status.idle": "2020-11-18T10:37:44.231427Z",
     "shell.execute_reply": "2020-11-18T10:37:44.230608Z"
    },
    "papermill": {
     "duration": 0.04175,
     "end_time": "2020-11-18T10:37:44.231566",
     "exception": false,
     "start_time": "2020-11-18T10:37:44.189816",
     "status": "completed"
    },
    "tags": []
   },
   "outputs": [
    {
     "data": {
      "text/plain": [
       "(170589,)"
      ]
     },
     "execution_count": 19,
     "metadata": {},
     "output_type": "execute_result"
    }
   ],
   "source": [
    "y_test.shape"
   ]
  },
  {
   "cell_type": "code",
   "execution_count": 20,
   "metadata": {
    "execution": {
     "iopub.execute_input": "2020-11-18T10:37:44.303746Z",
     "iopub.status.busy": "2020-11-18T10:37:44.302948Z",
     "iopub.status.idle": "2020-11-18T10:37:44.806702Z",
     "shell.execute_reply": "2020-11-18T10:37:44.805920Z"
    },
    "papermill": {
     "duration": 0.542008,
     "end_time": "2020-11-18T10:37:44.806833",
     "exception": false,
     "start_time": "2020-11-18T10:37:44.264825",
     "status": "completed"
    },
    "tags": []
   },
   "outputs": [
    {
     "name": "stdout",
     "output_type": "stream",
     "text": [
      "0.9999589657011883\n"
     ]
    },
    {
     "data": {
      "image/png": "[encoded data removed]",
      "text/plain": [
       "<Figure size 432x288 with 2 Axes>"
      ]
     },
     "metadata": {
      "needs_background": "light"
     },
     "output_type": "display_data"
    }
   ],
   "source": [
    "from sklearn.metrics import confusion_matrix , accuracy_score\n",
    "cm = confusion_matrix(y_test , y_pred)\n",
    "sns.heatmap(cm , annot=True)\n",
    "print(accuracy_score(y_test , y_pred))"
   ]
  },
  {
   "cell_type": "code",
   "execution_count": 21,
   "metadata": {
    "execution": {
     "iopub.execute_input": "2020-11-18T10:37:44.877425Z",
     "iopub.status.busy": "2020-11-18T10:37:44.876261Z",
     "iopub.status.idle": "2020-11-18T10:37:44.956034Z",
     "shell.execute_reply": "2020-11-18T10:37:44.955381Z"
    },
    "papermill": {
     "duration": 0.117242,
     "end_time": "2020-11-18T10:37:44.956172",
     "exception": false,
     "start_time": "2020-11-18T10:37:44.838930",
     "status": "completed"
    },
    "tags": []
   },
   "outputs": [
    {
     "data": {
      "text/plain": [
       "0.9999180778728335"
      ]
     },
     "execution_count": 21,
     "metadata": {},
     "output_type": "execute_result"
    }
   ],
   "source": [
    "from sklearn.metrics import precision_score\n",
    "precision_score(y_test , y_pred)"
   ]
  },
  {
   "cell_type": "code",
   "execution_count": 22,
   "metadata": {
    "execution": {
     "iopub.execute_input": "2020-11-18T10:37:45.029538Z",
     "iopub.status.busy": "2020-11-18T10:37:45.028727Z",
     "iopub.status.idle": "2020-11-18T10:37:45.109168Z",
     "shell.execute_reply": "2020-11-18T10:37:45.108335Z"
    },
    "papermill": {
     "duration": 0.121217,
     "end_time": "2020-11-18T10:37:45.109295",
     "exception": false,
     "start_time": "2020-11-18T10:37:44.988078",
     "status": "completed"
    },
    "tags": []
   },
   "outputs": [
    {
     "data": {
      "text/plain": [
       "1.0"
      ]
     },
     "execution_count": 22,
     "metadata": {},
     "output_type": "execute_result"
    }
   ],
   "source": [
    "from sklearn.metrics import recall_score\n",
    "recall_score(y_test , y_pred)"
   ]
  },
  {
   "cell_type": "code",
   "execution_count": 23,
   "metadata": {
    "execution": {
     "iopub.execute_input": "2020-11-18T10:37:45.181189Z",
     "iopub.status.busy": "2020-11-18T10:37:45.180370Z",
     "iopub.status.idle": "2020-11-18T10:37:45.533439Z",
     "shell.execute_reply": "2020-11-18T10:37:45.534069Z"
    },
    "papermill": {
     "duration": 0.392082,
     "end_time": "2020-11-18T10:37:45.534245",
     "exception": false,
     "start_time": "2020-11-18T10:37:45.142163",
     "status": "completed"
    },
    "tags": []
   },
   "outputs": [
    {
     "name": "stdout",
     "output_type": "stream",
     "text": [
      "              precision    recall  f1-score   support\n",
      "\n",
      "           0       1.00      1.00      1.00     85149\n",
      "           1       1.00      1.00      1.00     85440\n",
      "\n",
      "    accuracy                           1.00    170589\n",
      "   macro avg       1.00      1.00      1.00    170589\n",
      "weighted avg       1.00      1.00      1.00    170589\n",
      "\n"
     ]
    }
   ],
   "source": [
    "from sklearn.metrics import classification_report\n",
    "print(classification_report(y_test , y_pred))"
   ]
  }
 ],
 "metadata": {
  "kernelspec": {
   "display_name": "Python 3",
   "language": "python",
   "name": "python3"
  },
  "language_info": {
   "codemirror_mode": {
    "name": "ipython",
    "version": 3
   },
   "file_extension": ".py",
   "mimetype": "text/x-python",
   "name": "python",
   "nbconvert_exporter": "python",
   "pygments_lexer": "ipython3",
   "version": "3.7.6"
  },
  "papermill": {
   "duration": 2139.967788,
   "end_time": "2020-11-18T10:37:45.677132",
   "environment_variables": {},
   "exception": null,
   "input_path": "__notebook__.ipynb",
   "output_path": "__notebook__.ipynb",
   "parameters": {},
   "start_time": "2020-11-18T10:02:05.709344",
   "version": "2.1.0"
  }
 },
 "nbformat": 4,
 "nbformat_minor": 4
}
